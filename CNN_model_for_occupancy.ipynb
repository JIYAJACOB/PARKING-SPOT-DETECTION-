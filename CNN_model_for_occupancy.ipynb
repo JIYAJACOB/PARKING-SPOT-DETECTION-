{
 "cells": [
  {
   "cell_type": "code",
   "execution_count": 22,
   "metadata": {},
   "outputs": [],
   "source": [
    "import numpy\n",
    "import os\n",
    "from keras import applications\n",
    "from keras.preprocessing.image import ImageDataGenerator\n",
    "from keras import optimizers\n",
    "from keras.models import Sequential, Model\n",
    "from keras.layers import Dropout, Flatten, Dense, GlobalAveragePooling2D\n",
    "from keras import backend as k\n",
    "from keras.callbacks import ModelCheckpoint, LearningRateScheduler, TensorBoard, EarlyStopping"
   ]
  },
  {
   "cell_type": "markdown",
   "metadata": {},
   "source": [
    "### 1. Load Test and Train Files"
   ]
  },
  {
   "cell_type": "code",
   "execution_count": 23,
   "metadata": {},
   "outputs": [
    {
     "name": "stdout",
     "output_type": "stream",
     "text": [
      "(381, 164)\n"
     ]
    }
   ],
   "source": [
    "files_train = 0\n",
    "files_validation = 0\n",
    "\n",
    "cwd = os.getcwd()\n",
    "folder = 'train_data/train'\n",
    "for sub_folder in os.listdir(folder):\n",
    "    path, dirs, files = next(os.walk(os.path.join(folder,sub_folder)))\n",
    "    files_train += len(files)\n",
    "\n",
    "\n",
    "folder = 'train_data/test'\n",
    "for sub_folder in os.listdir(folder):\n",
    "    path, dirs, files = next(os.walk(os.path.join(folder,sub_folder)))\n",
    "    files_validation += len(files)\n",
    "\n",
    "print(files_train,files_validation)"
   ]
  },
  {
   "cell_type": "markdown",
   "metadata": {},
   "source": [
    "### 2. Set key parameters"
   ]
  },
  {
   "cell_type": "code",
   "execution_count": 24,
   "metadata": {},
   "outputs": [],
   "source": [
    "img_width, img_height = 48, 48\n",
    "train_data_dir = \"train_data/train\"\n",
    "validation_data_dir = \"train_data/test\"\n",
    "nb_train_samples = files_train\n",
    "nb_validation_samples = files_validation\n",
    "batch_size = 32\n",
    "epochs = 15\n",
    "num_classes = 2"
   ]
  },
  {
   "cell_type": "markdown",
   "metadata": {},
   "source": [
    "### 3. Build model on top of a trained VGG"
   ]
  },
  {
   "cell_type": "code",
   "execution_count": 25,
   "metadata": {},
   "outputs": [],
   "source": [
    "model = applications.VGG16(weights = \"imagenet\", include_top=False, input_shape = (img_width, img_height, 3))\n",
    "# Freeze the layers which you don't want to train. Here I am freezing the first 5 layers.\n",
    "for layer in model.layers[:10]:\n",
    "    layer.trainable = False"
   ]
  },
  {
   "cell_type": "code",
   "execution_count": 26,
   "metadata": {},
   "outputs": [
    {
     "name": "stderr",
     "output_type": "stream",
     "text": [
      "/usr/local/lib/python2.7/dist-packages/ipykernel_launcher.py:10: UserWarning: Update your `Model` call to the Keras 2 API: `Model(outputs=Tensor(\"de..., inputs=Tensor(\"in...)`\n",
      "  # Remove the CWD from sys.path while we load stuff.\n"
     ]
    }
   ],
   "source": [
    "x = model.output\n",
    "x = Flatten()(x)\n",
    "# x = Dense(512, activation=\"relu\")(x)\n",
    "# x = Dropout(0.5)(x)\n",
    "# x = Dense(256, activation=\"relu\")(x)\n",
    "# x = Dropout(0.5)(x)\n",
    "predictions = Dense(num_classes, activation=\"softmax\")(x)\n",
    "\n",
    "# creating the final model\n",
    "model_final = Model(input = model.input, output = predictions)\n",
    "\n",
    "# compile the model\n",
    "model_final.compile(loss = \"categorical_crossentropy\", \n",
    "                    optimizer = optimizers.SGD(lr=0.0001, momentum=0.9), \n",
    "                    metrics=[\"accuracy\"]) # See learning rate is very low"
   ]
  },
  {
   "cell_type": "code",
   "execution_count": 27,
   "metadata": {},
   "outputs": [
    {
     "name": "stdout",
     "output_type": "stream",
     "text": [
      "Found 381 images belonging to 2 classes.\n",
      "Found 164 images belonging to 2 classes.\n"
     ]
    }
   ],
   "source": [
    "# Initiate the train and test generators with data Augumentation\n",
    "train_datagen = ImageDataGenerator(\n",
    "rescale = 1./255,\n",
    "horizontal_flip = True,\n",
    "fill_mode = \"nearest\",\n",
    "zoom_range = 0.1,\n",
    "width_shift_range = 0.1,\n",
    "height_shift_range=0.1,\n",
    "rotation_range=5)\n",
    "\n",
    "test_datagen = ImageDataGenerator(\n",
    "rescale = 1./255,\n",
    "horizontal_flip = True,\n",
    "fill_mode = \"nearest\",\n",
    "zoom_range = 0.1,\n",
    "width_shift_range = 0.1,\n",
    "height_shift_range=0.1,\n",
    "rotation_range=5)\n",
    "\n",
    "train_generator = train_datagen.flow_from_directory(\n",
    "train_data_dir,\n",
    "target_size = (img_height, img_width),\n",
    "batch_size = batch_size,\n",
    "class_mode = \"categorical\")\n",
    "\n",
    "validation_generator = test_datagen.flow_from_directory(\n",
    "validation_data_dir,\n",
    "target_size = (img_height, img_width),\n",
    "class_mode = \"categorical\")"
   ]
  },
  {
   "cell_type": "code",
   "execution_count": 28,
   "metadata": {},
   "outputs": [],
   "source": [
    "# Save the model according to the conditions\n",
    "checkpoint = ModelCheckpoint(\"car1.h5\", monitor='val_acc', verbose=1, save_best_only=True, save_weights_only=False, mode='auto', period=1)\n",
    "early = EarlyStopping(monitor='val_acc', min_delta=0, patience=10, verbose=1, mode='auto')\n"
   ]
  },
  {
   "cell_type": "code",
   "execution_count": 29,
   "metadata": {},
   "outputs": [
    {
     "name": "stderr",
     "output_type": "stream",
     "text": [
      "/usr/local/lib/python2.7/dist-packages/ipykernel_launcher.py:9: UserWarning: The semantics of the Keras 2 argument `steps_per_epoch` is not the same as the Keras 1 argument `samples_per_epoch`. `steps_per_epoch` is the number of batches to draw from the generator at each epoch. Basically steps_per_epoch = samples_per_epoch/batch_size. Similarly `nb_val_samples`->`validation_steps` and `val_samples`->`steps` arguments have changed. Update your method calls accordingly.\n",
      "  if __name__ == '__main__':\n",
      "/usr/local/lib/python2.7/dist-packages/ipykernel_launcher.py:9: UserWarning: Update your `fit_generator` call to the Keras 2 API: `fit_generator(<keras.pre..., validation_data=<keras.pre..., steps_per_epoch=11, epochs=15, callbacks=[<keras.ca..., validation_steps=164)`\n",
      "  if __name__ == '__main__':\n"
     ]
    },
    {
     "name": "stdout",
     "output_type": "stream",
     "text": [
      "Epoch 1/15\n",
      "10/11 [==========================>...] - ETA: 0s - loss: 0.6248 - acc: 0.6210\n",
      "Epoch 00001: val_acc improved from -inf to 0.77449, saving model to car1.h5\n",
      "11/11 [==============================] - 6s 552ms/step - loss: 0.6193 - acc: 0.6245 - val_loss: 0.4398 - val_acc: 0.7745\n",
      "Epoch 2/15\n",
      " 8/11 [====================>.........] - ETA: 0s - loss: 0.4339 - acc: 0.7461\n",
      "Epoch 00002: val_acc improved from 0.77449 to 0.86131, saving model to car1.h5\n",
      "11/11 [==============================] - 5s 456ms/step - loss: 0.3886 - acc: 0.7774 - val_loss: 0.3228 - val_acc: 0.8613\n",
      "Epoch 3/15\n",
      " 9/11 [=======================>......] - ETA: 0s - loss: 0.2754 - acc: 0.9086\n",
      "Epoch 00003: val_acc improved from 0.86131 to 0.92204, saving model to car1.h5\n",
      "11/11 [==============================] - 5s 454ms/step - loss: 0.2646 - acc: 0.9196 - val_loss: 0.2556 - val_acc: 0.9220\n",
      "Epoch 4/15\n",
      "10/11 [==========================>...] - ETA: 0s - loss: 0.1922 - acc: 0.9515\n",
      "Epoch 00004: val_acc did not improve\n",
      "11/11 [==============================] - 5s 488ms/step - loss: 0.1850 - acc: 0.9560 - val_loss: 0.2326 - val_acc: 0.9041\n",
      "Epoch 5/15\n",
      " 8/11 [====================>.........] - ETA: 0s - loss: 0.1548 - acc: 0.9492\n",
      "Epoch 00005: val_acc did not improve\n",
      "11/11 [==============================] - 5s 428ms/step - loss: 0.1414 - acc: 0.9545 - val_loss: 0.2023 - val_acc: 0.9121\n",
      "Epoch 6/15\n",
      " 9/11 [=======================>......] - ETA: 0s - loss: 0.1199 - acc: 0.9722\n",
      "Epoch 00006: val_acc did not improve\n",
      "11/11 [==============================] - 5s 445ms/step - loss: 0.1205 - acc: 0.9716 - val_loss: 0.1817 - val_acc: 0.9182\n",
      "Epoch 7/15\n",
      "10/11 [==========================>...] - ETA: 0s - loss: 0.0952 - acc: 0.9650\n",
      "Epoch 00007: val_acc did not improve\n",
      "11/11 [==============================] - 6s 504ms/step - loss: 0.1014 - acc: 0.9625 - val_loss: 0.2241 - val_acc: 0.9121\n",
      "Epoch 8/15\n",
      "10/11 [==========================>...] - ETA: 0s - loss: 0.1144 - acc: 0.9594\n",
      "Epoch 00008: val_acc improved from 0.92204 to 0.92498, saving model to car1.h5\n",
      "11/11 [==============================] - 5s 474ms/step - loss: 0.1199 - acc: 0.9574 - val_loss: 0.1704 - val_acc: 0.9250\n",
      "Epoch 9/15\n",
      " 9/11 [=======================>......] - ETA: 0s - loss: 0.0650 - acc: 0.9792\n",
      "Epoch 00009: val_acc did not improve\n",
      "11/11 [==============================] - 5s 437ms/step - loss: 0.0641 - acc: 0.9772 - val_loss: 0.1691 - val_acc: 0.9200\n",
      "Epoch 10/15\n",
      "10/11 [==========================>...] - ETA: 0s - loss: 0.0774 - acc: 0.9812\n",
      "Epoch 00010: val_acc did not improve\n",
      "11/11 [==============================] - 5s 458ms/step - loss: 0.0723 - acc: 0.9830 - val_loss: 0.1960 - val_acc: 0.9194\n",
      "Epoch 11/15\n",
      "10/11 [==========================>...] - ETA: 0s - loss: 0.1063 - acc: 0.9647\n",
      "Epoch 00011: val_acc improved from 0.92498 to 0.93255, saving model to car1.h5\n",
      "11/11 [==============================] - 5s 436ms/step - loss: 0.1002 - acc: 0.9679 - val_loss: 0.1519 - val_acc: 0.9325\n",
      "Epoch 12/15\n",
      "10/11 [==========================>...] - ETA: 0s - loss: 0.0871 - acc: 0.9681\n",
      "Epoch 00012: val_acc did not improve\n",
      "11/11 [==============================] - 4s 363ms/step - loss: 0.0833 - acc: 0.9710 - val_loss: 0.1852 - val_acc: 0.9191\n",
      "Epoch 13/15\n",
      "10/11 [==========================>...] - ETA: 0s - loss: 0.0490 - acc: 0.9809\n",
      "Epoch 00013: val_acc did not improve\n",
      "11/11 [==============================] - 4s 399ms/step - loss: 0.0458 - acc: 0.9827 - val_loss: 0.1672 - val_acc: 0.9225\n",
      "Epoch 14/15\n",
      " 8/11 [====================>.........] - ETA: 0s - loss: 0.0839 - acc: 0.9766\n",
      "Epoch 00014: val_acc improved from 0.93255 to 0.93433, saving model to car1.h5\n",
      "11/11 [==============================] - 5s 436ms/step - loss: 0.0711 - acc: 0.9801 - val_loss: 0.1418 - val_acc: 0.9343\n",
      "Epoch 15/15\n",
      " 9/11 [=======================>......] - ETA: 0s - loss: 0.0435 - acc: 0.9896\n",
      "Epoch 00015: val_acc did not improve\n",
      "11/11 [==============================] - 4s 376ms/step - loss: 0.0451 - acc: 0.9886 - val_loss: 0.1616 - val_acc: 0.9279\n"
     ]
    }
   ],
   "source": [
    "### Start training!\n",
    "\n",
    "history_object = model_final.fit_generator(\n",
    "train_generator,\n",
    "samples_per_epoch = nb_train_samples,\n",
    "epochs = epochs,\n",
    "validation_data = validation_generator,\n",
    "nb_val_samples = nb_validation_samples,\n",
    "callbacks = [checkpoint, early])"
   ]
  },
  {
   "cell_type": "code",
   "execution_count": 30,
   "metadata": {},
   "outputs": [
    {
     "name": "stdout",
     "output_type": "stream",
     "text": [
      "['acc', 'loss', 'val_acc', 'val_loss']\n"
     ]
    },
    {
     "data": {
      "image/png": "[encoded data removed]",
      "text/plain": [
       "<Figure size 432x288 with 1 Axes>"
      ]
     },
     "metadata": {},
     "output_type": "display_data"
    }
   ],
   "source": [
    "import matplotlib.pyplot as plt\n",
    "print(history_object.history.keys())\n",
    "plt.plot(history_object.history['acc'])\n",
    "plt.plot(history_object.history['val_acc'])\n",
    "plt.title('model accuracy')\n",
    "plt.ylabel('acc')\n",
    "plt.xlabel('epoch')\n",
    "plt.legend(['train', 'test'], loc='upper left')\n",
    "plt.show()"
   ]
  },
  {
   "cell_type": "code",
   "execution_count": 31,
   "metadata": {},
   "outputs": [
    {
     "data": {
      "image/png": "[encoded data removed]",
      "text/plain": [
       "<Figure size 432x288 with 1 Axes>"
      ]
     },
     "metadata": {},
     "output_type": "display_data"
    }
   ],
   "source": [
    "plt.plot(history_object.history['loss'])\n",
    "plt.plot(history_object.history['val_loss'])\n",
    "plt.title('model loss')\n",
    "plt.ylabel('loss')\n",
    "plt.xlabel('epoch')\n",
    "plt.legend(['train', 'test'], loc='upper left')\n",
    "plt.show()"
   ]
  },
  {
   "cell_type": "code",
   "execution_count": null,
   "metadata": {},
   "outputs": [],
   "source": []
  }
 ],
 "metadata": {
  "kernelspec": {
   "display_name": "Python 2",
   "language": "python",
   "name": "python2"
  },
  "language_info": {
   "codemirror_mode": {
    "name": "ipython",
    "version": 2
   },
   "file_extension": ".py",
   "mimetype": "text/x-python",
   "name": "python",
   "nbconvert_exporter": "python",
   "pygments_lexer": "ipython2",
   "version": "2.7.12"
  }
 },
 "nbformat": 4,
 "nbformat_minor": 2
}
